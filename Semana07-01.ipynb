{
 "cells": [
  {
   "cell_type": "markdown",
   "id": "9289cc6c",
   "metadata": {},
   "source": [
    "# Semana 07\n",
    "Alumno Edwin Manuel Paucar Nonajulca"
   ]
  },
  {
   "cell_type": "raw",
   "id": "afb003be",
   "metadata": {},
   "source": [
    "Temas:\n",
    "    1. Números\n",
    "    2. Variables\n",
    "    3. Manejo de Cadenas\n",
    "    4. Ingreso de datos por el teclado\n",
    "    5. Operadores"
   ]
  },
  {
   "cell_type": "markdown",
   "id": "e1958523",
   "metadata": {},
   "source": [
    "2. Variables"
   ]
  },
  {
   "cell_type": "code",
   "execution_count": 1,
   "id": "48b75d8c",
   "metadata": {},
   "outputs": [],
   "source": [
    "#Siempre deebe iniciar con una letra o un guión abajo. (Nunca con un número u otro símbolo)\n"
   ]
  },
  {
   "cell_type": "code",
   "execution_count": 3,
   "id": "7bfc4879",
   "metadata": {},
   "outputs": [],
   "source": [
    "edad = 41"
   ]
  },
  {
   "cell_type": "code",
   "execution_count": 4,
   "id": "4c62f364",
   "metadata": {},
   "outputs": [
    {
     "data": {
      "text/plain": [
       "41"
      ]
     },
     "execution_count": 4,
     "metadata": {},
     "output_type": "execute_result"
    }
   ],
   "source": [
    "edad"
   ]
  },
  {
   "cell_type": "code",
   "execution_count": 5,
   "id": "7b9fca6b",
   "metadata": {},
   "outputs": [],
   "source": [
    "nombre = \"Manuel\""
   ]
  },
  {
   "cell_type": "code",
   "execution_count": 6,
   "id": "e6bf500f",
   "metadata": {},
   "outputs": [
    {
     "data": {
      "text/plain": [
       "'Manuel'"
      ]
     },
     "execution_count": 6,
     "metadata": {},
     "output_type": "execute_result"
    }
   ],
   "source": [
    "nombre"
   ]
  },
  {
   "cell_type": "code",
   "execution_count": 15,
   "id": "a2f32d3b",
   "metadata": {},
   "outputs": [],
   "source": [
    "apellido = \"Paucar Nonajulca\""
   ]
  },
  {
   "cell_type": "code",
   "execution_count": 16,
   "id": "fd7f351b",
   "metadata": {},
   "outputs": [
    {
     "data": {
      "text/plain": [
       "'Paucar Nonajulca'"
      ]
     },
     "execution_count": 16,
     "metadata": {},
     "output_type": "execute_result"
    }
   ],
   "source": [
    "apellido"
   ]
  },
  {
   "cell_type": "code",
   "execution_count": 17,
   "id": "d2b09385",
   "metadata": {},
   "outputs": [],
   "source": [
    "nombreCompleto = nombre + apellido"
   ]
  },
  {
   "cell_type": "code",
   "execution_count": 18,
   "id": "22ebf234",
   "metadata": {},
   "outputs": [
    {
     "data": {
      "text/plain": [
       "'ManuelPaucar Nonajulca'"
      ]
     },
     "execution_count": 18,
     "metadata": {},
     "output_type": "execute_result"
    }
   ],
   "source": [
    "nombreCompleto"
   ]
  },
  {
   "cell_type": "code",
   "execution_count": 19,
   "id": "8c2e59e8",
   "metadata": {},
   "outputs": [],
   "source": [
    "nombreCompleto = nombre + \" \" + apellido"
   ]
  },
  {
   "cell_type": "code",
   "execution_count": 20,
   "id": "998cca4d",
   "metadata": {},
   "outputs": [
    {
     "data": {
      "text/plain": [
       "'Manuel Paucar Nonajulca'"
      ]
     },
     "execution_count": 20,
     "metadata": {},
     "output_type": "execute_result"
    }
   ],
   "source": [
    "nombreCompleto"
   ]
  },
  {
   "cell_type": "code",
   "execution_count": 21,
   "id": "587a4ae2",
   "metadata": {},
   "outputs": [],
   "source": [
    "#Para saber el tipo de variable utilizamos la funcion type()\n",
    "#Por ejemplo:"
   ]
  },
  {
   "cell_type": "code",
   "execution_count": 22,
   "id": "47f24ca4",
   "metadata": {},
   "outputs": [
    {
     "data": {
      "text/plain": [
       "int"
      ]
     },
     "execution_count": 22,
     "metadata": {},
     "output_type": "execute_result"
    }
   ],
   "source": [
    "numero = 50\n",
    "type(numero)"
   ]
  },
  {
   "cell_type": "code",
   "execution_count": 23,
   "id": "d67a2238",
   "metadata": {},
   "outputs": [
    {
     "data": {
      "text/plain": [
       "str"
      ]
     },
     "execution_count": 23,
     "metadata": {},
     "output_type": "execute_result"
    }
   ],
   "source": [
    "type(nombre)"
   ]
  },
  {
   "cell_type": "code",
   "execution_count": 24,
   "id": "487f5b41",
   "metadata": {},
   "outputs": [
    {
     "data": {
      "text/plain": [
       "1.57"
      ]
     },
     "execution_count": 24,
     "metadata": {},
     "output_type": "execute_result"
    }
   ],
   "source": [
    "talla = 1.57\n",
    "talla"
   ]
  },
  {
   "cell_type": "code",
   "execution_count": 25,
   "id": "fc4a8bfd",
   "metadata": {},
   "outputs": [],
   "source": [
    "#Para convertir un numero en cadena utilizamos str()"
   ]
  },
  {
   "cell_type": "code",
   "execution_count": 26,
   "id": "9c88d02b",
   "metadata": {},
   "outputs": [
    {
     "data": {
      "text/plain": [
       "'100'"
      ]
     },
     "execution_count": 26,
     "metadata": {},
     "output_type": "execute_result"
    }
   ],
   "source": [
    "numero = 100\n",
    "cadena = str(numero)\n",
    "cadena"
   ]
  },
  {
   "cell_type": "code",
   "execution_count": 27,
   "id": "cff0ba8a",
   "metadata": {},
   "outputs": [
    {
     "data": {
      "text/plain": [
       "str"
      ]
     },
     "execution_count": 27,
     "metadata": {},
     "output_type": "execute_result"
    }
   ],
   "source": [
    "type(cadena)"
   ]
  },
  {
   "cell_type": "code",
   "execution_count": 29,
   "id": "04496d8a",
   "metadata": {},
   "outputs": [
    {
     "data": {
      "text/plain": [
       "50"
      ]
     },
     "execution_count": 29,
     "metadata": {},
     "output_type": "execute_result"
    }
   ],
   "source": [
    "#Para convertir una cadena en un entero utilizamos int()\n",
    "cadena2 = \"50\"\n",
    "numero2 = int(cadena2)\n",
    "numero2"
   ]
  },
  {
   "cell_type": "code",
   "execution_count": 30,
   "id": "eec873fc",
   "metadata": {},
   "outputs": [
    {
     "data": {
      "text/plain": [
       "50.0"
      ]
     },
     "execution_count": 30,
     "metadata": {},
     "output_type": "execute_result"
    }
   ],
   "source": [
    "#Para convertir una cadena a un decimal utilizamos float()\n",
    "cadena2 = \"50\"\n",
    "numero2 = float(cadena2)\n",
    "numero2"
   ]
  },
  {
   "cell_type": "code",
   "execution_count": 31,
   "id": "ce987ebd",
   "metadata": {},
   "outputs": [
    {
     "data": {
      "text/plain": [
       "float"
      ]
     },
     "execution_count": 31,
     "metadata": {},
     "output_type": "execute_result"
    }
   ],
   "source": [
    "type(numero2)"
   ]
  },
  {
   "cell_type": "code",
   "execution_count": null,
   "id": "f4ad9b8b",
   "metadata": {},
   "outputs": [],
   "source": []
  }
 ],
 "metadata": {
  "kernelspec": {
   "display_name": "Python 3 (ipykernel)",
   "language": "python",
   "name": "python3"
  },
  "language_info": {
   "codemirror_mode": {
    "name": "ipython",
    "version": 3
   },
   "file_extension": ".py",
   "mimetype": "text/x-python",
   "name": "python",
   "nbconvert_exporter": "python",
   "pygments_lexer": "ipython3",
   "version": "3.9.12"
  }
 },
 "nbformat": 4,
 "nbformat_minor": 5
}
