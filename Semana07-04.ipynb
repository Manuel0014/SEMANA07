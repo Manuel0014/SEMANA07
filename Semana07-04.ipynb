{
 "cells": [
  {
   "cell_type": "markdown",
   "id": "98d13347",
   "metadata": {},
   "source": [
    "# Semana 07\n",
    "Alumno Edwin Manuel Paucar Nonajulca"
   ]
  },
  {
   "cell_type": "raw",
   "id": "cad964af",
   "metadata": {},
   "source": [
    "Temas:\n",
    "    1. Números\n",
    "    2. Variables\n",
    "    3. Manejo de Cadenas\n",
    "    4. Ingreso de datos por el teclado\n",
    "    5. Operadores"
   ]
  },
  {
   "cell_type": "markdown",
   "id": "4416ea43",
   "metadata": {},
   "source": [
    "4. Ingreso de datos por el teclado"
   ]
  },
  {
   "cell_type": "code",
   "execution_count": 1,
   "id": "76db926f",
   "metadata": {},
   "outputs": [
    {
     "name": "stdout",
     "output_type": "stream",
     "text": [
      "¿Cual es tu nombre?\n",
      "manuelito\n",
      "hola manuelito\n"
     ]
    }
   ],
   "source": [
    "#funcion input()\n",
    "print(\"¿Cual es tu nombre?\")\n",
    "nombre = input()\n",
    "print(\"hola \"+ nombre)"
   ]
  },
  {
   "cell_type": "code",
   "execution_count": 2,
   "id": "975a23b8",
   "metadata": {},
   "outputs": [
    {
     "name": "stdout",
     "output_type": "stream",
     "text": [
      "número 1: \n",
      "3\n",
      "número 2: \n",
      "4\n",
      "El resulado es 7\n"
     ]
    }
   ],
   "source": [
    "#Cuando ingresa un valor por teclado lo hace como cadena\n",
    "print(\"número 1: \")\n",
    "numero1 = input()\n",
    "print(\"número 2: \")\n",
    "numero2 = input()\n",
    "numero3 = int(numero1) + int(numero2)\n",
    "print(f'El resulado es {numero3}')"
   ]
  },
  {
   "cell_type": "code",
   "execution_count": null,
   "id": "1bc42556",
   "metadata": {},
   "outputs": [],
   "source": []
  }
 ],
 "metadata": {
  "kernelspec": {
   "display_name": "Python 3 (ipykernel)",
   "language": "python",
   "name": "python3"
  },
  "language_info": {
   "codemirror_mode": {
    "name": "ipython",
    "version": 3
   },
   "file_extension": ".py",
   "mimetype": "text/x-python",
   "name": "python",
   "nbconvert_exporter": "python",
   "pygments_lexer": "ipython3",
   "version": "3.9.12"
  }
 },
 "nbformat": 4,
 "nbformat_minor": 5
}
