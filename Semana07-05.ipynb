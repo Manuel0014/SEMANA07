{
 "cells": [
  {
   "cell_type": "markdown",
   "id": "71d3bfc5",
   "metadata": {},
   "source": [
    "# Semana 07\n",
    "Alumno Edwin Manuel Paucar Nonajulca"
   ]
  },
  {
   "cell_type": "raw",
   "id": "4e9586e1",
   "metadata": {},
   "source": [
    "Temas:\n",
    "    1. Números\n",
    "    2. Variables\n",
    "    3. Manejo de Cadenas\n",
    "    4. Ingreso de datos por el teclado\n",
    "    5. Operadores"
   ]
  },
  {
   "cell_type": "markdown",
   "id": "5ad430c8",
   "metadata": {},
   "source": [
    "5. Operadores"
   ]
  },
  {
   "cell_type": "code",
   "execution_count": 1,
   "id": "8858a1e5",
   "metadata": {},
   "outputs": [],
   "source": [
    "#5.1 operadores aritmeticos\n",
    "#Se tiene : +, -, *, /, **, //"
   ]
  },
  {
   "cell_type": "code",
   "execution_count": 2,
   "id": "d16bcc7f",
   "metadata": {},
   "outputs": [
    {
     "name": "stdout",
     "output_type": "stream",
     "text": [
      "13\n"
     ]
    }
   ],
   "source": [
    "numero1 = 10\n",
    "numero2 = 3\n",
    "suma = numero1 + numero2\n",
    "print(suma)"
   ]
  },
  {
   "cell_type": "code",
   "execution_count": 3,
   "id": "d37e8bc0",
   "metadata": {},
   "outputs": [
    {
     "name": "stdout",
     "output_type": "stream",
     "text": [
      "7\n"
     ]
    }
   ],
   "source": [
    "resta = numero1 - numero2\n",
    "print(resta)"
   ]
  },
  {
   "cell_type": "code",
   "execution_count": 4,
   "id": "d4500c9a",
   "metadata": {},
   "outputs": [
    {
     "name": "stdout",
     "output_type": "stream",
     "text": [
      "30\n"
     ]
    }
   ],
   "source": [
    "multiplicacion = numero1 * numero2\n",
    "print(multiplicacion)"
   ]
  },
  {
   "cell_type": "code",
   "execution_count": 5,
   "id": "296d4b87",
   "metadata": {},
   "outputs": [
    {
     "name": "stdout",
     "output_type": "stream",
     "text": [
      "3.3333333333333335\n"
     ]
    }
   ],
   "source": [
    "division = numero1 / numero2\n",
    "print(division)"
   ]
  },
  {
   "cell_type": "code",
   "execution_count": 6,
   "id": "d81e753d",
   "metadata": {},
   "outputs": [
    {
     "name": "stdout",
     "output_type": "stream",
     "text": [
      "1\n"
     ]
    }
   ],
   "source": [
    "residuo = numero1 % numero2\n",
    "print(residuo)"
   ]
  },
  {
   "cell_type": "code",
   "execution_count": 8,
   "id": "164fa624",
   "metadata": {},
   "outputs": [
    {
     "name": "stdout",
     "output_type": "stream",
     "text": [
      "3\n"
     ]
    }
   ],
   "source": [
    "cociente = numero1 // numero2\n",
    "print(cociente)"
   ]
  },
  {
   "cell_type": "code",
   "execution_count": 10,
   "id": "6f66dba6",
   "metadata": {},
   "outputs": [
    {
     "name": "stdout",
     "output_type": "stream",
     "text": [
      "1000\n"
     ]
    }
   ],
   "source": [
    "potencia = numero1 ** numero2\n",
    "print(potencia)"
   ]
  },
  {
   "cell_type": "code",
   "execution_count": 11,
   "id": "5d598290",
   "metadata": {},
   "outputs": [
    {
     "name": "stdout",
     "output_type": "stream",
     "text": [
      "8\n"
     ]
    }
   ],
   "source": [
    "#5.2 operadores de asignacion\n",
    "#Se tiene: =, +=, -=, *=, /=, **=\n",
    "numero = 5\n",
    "numero = numero + 3\n",
    "print(numero)"
   ]
  },
  {
   "cell_type": "code",
   "execution_count": 12,
   "id": "081b5272",
   "metadata": {},
   "outputs": [
    {
     "name": "stdout",
     "output_type": "stream",
     "text": [
      "8\n"
     ]
    }
   ],
   "source": [
    "#La operacion anterior tambien se puede expresar de la siguiente manera:\n",
    "numero = 5\n",
    "numero += 3\n",
    "print(numero)"
   ]
  },
  {
   "cell_type": "code",
   "execution_count": 13,
   "id": "5b50f6b4",
   "metadata": {},
   "outputs": [
    {
     "name": "stdout",
     "output_type": "stream",
     "text": [
      "125\n"
     ]
    }
   ],
   "source": [
    "#Lo mismo se puede hacer con todos los casos, incluso la potencia\n",
    "#Veamos otro ejemplo\n",
    "numero = 5\n",
    "numero = numero ** 3\n",
    "print(numero)"
   ]
  },
  {
   "cell_type": "code",
   "execution_count": 14,
   "id": "f3b64c98",
   "metadata": {},
   "outputs": [
    {
     "name": "stdout",
     "output_type": "stream",
     "text": [
      "125\n"
     ]
    }
   ],
   "source": [
    "#La operacion anterior tambien se puede expresar de la siguiente manera:\n",
    "numero = 5\n",
    "numero **= 3\n",
    "print(numero)"
   ]
  },
  {
   "cell_type": "code",
   "execution_count": 15,
   "id": "e4c8a8c4",
   "metadata": {},
   "outputs": [],
   "source": [
    "#Operadores de comparacion\n",
    "#se tiene: ==, !=, <, >, <=, >="
   ]
  },
  {
   "cell_type": "code",
   "execution_count": 16,
   "id": "91c27066",
   "metadata": {},
   "outputs": [
    {
     "data": {
      "text/plain": [
       "False"
      ]
     },
     "execution_count": 16,
     "metadata": {},
     "output_type": "execute_result"
    }
   ],
   "source": [
    "#ejemplo de igualdad ==\n",
    "numero1 = 5\n",
    "numero = 2\n",
    "numero1 == numero2"
   ]
  },
  {
   "cell_type": "code",
   "execution_count": 17,
   "id": "212b84db",
   "metadata": {},
   "outputs": [
    {
     "data": {
      "text/plain": [
       "True"
      ]
     },
     "execution_count": 17,
     "metadata": {},
     "output_type": "execute_result"
    }
   ],
   "source": [
    "#con las cadenas funciona igual\n",
    "nombre1 = \"Juan\"\n",
    "nombre2 = \"Juan\"\n",
    "nombre1 == nombre2"
   ]
  },
  {
   "cell_type": "code",
   "execution_count": 19,
   "id": "3ac18aaa",
   "metadata": {},
   "outputs": [],
   "source": [
    "#5.4 operadores logicos\n",
    "#se tiene: and, or, not\n",
    "numero1 = 5\n",
    "numero2 = 6\n",
    "numero3 = 7\n",
    "numero4 = 8"
   ]
  },
  {
   "cell_type": "code",
   "execution_count": 20,
   "id": "f7e69405",
   "metadata": {},
   "outputs": [
    {
     "data": {
      "text/plain": [
       "True"
      ]
     },
     "execution_count": 20,
     "metadata": {},
     "output_type": "execute_result"
    }
   ],
   "source": [
    "numero1 < numero2"
   ]
  },
  {
   "cell_type": "code",
   "execution_count": 21,
   "id": "1d4dffd8",
   "metadata": {},
   "outputs": [
    {
     "data": {
      "text/plain": [
       "False"
      ]
     },
     "execution_count": 21,
     "metadata": {},
     "output_type": "execute_result"
    }
   ],
   "source": [
    "#El not invierte el resultado\n",
    "not(numero1 < numero2)"
   ]
  },
  {
   "cell_type": "code",
   "execution_count": 22,
   "id": "8b714c58",
   "metadata": {},
   "outputs": [
    {
     "data": {
      "text/plain": [
       "True"
      ]
     },
     "execution_count": 22,
     "metadata": {},
     "output_type": "execute_result"
    }
   ],
   "source": [
    "numero < numero2 and numero3 < numero4"
   ]
  },
  {
   "cell_type": "code",
   "execution_count": 23,
   "id": "654399e4",
   "metadata": {},
   "outputs": [
    {
     "data": {
      "text/plain": [
       "True"
      ]
     },
     "execution_count": 23,
     "metadata": {},
     "output_type": "execute_result"
    }
   ],
   "source": [
    "#tambien puedes utilizar parentesis para ordenar tu operacion\n",
    "(numero1<numero2 and numero3<numero4) or (numero3>numero4)"
   ]
  },
  {
   "cell_type": "code",
   "execution_count": 24,
   "id": "34dd9b19",
   "metadata": {},
   "outputs": [],
   "source": [
    "#5.5 operadores de pertenencia\n",
    "#se tiene: in, not in"
   ]
  },
  {
   "cell_type": "code",
   "execution_count": 26,
   "id": "e62ffec8",
   "metadata": {},
   "outputs": [
    {
     "data": {
      "text/plain": [
       "False"
      ]
     },
     "execution_count": 26,
     "metadata": {},
     "output_type": "execute_result"
    }
   ],
   "source": [
    "#miremos un ejemplo\n",
    "aula = [\"Edwin\", \"Manuel\", \"Paucar\"]\n",
    "alumno1 = \"Luis\"\n",
    "alumno2 = \"Manuel\"\n",
    "#Luis esta en el aula?\n",
    "alumno1 in aula"
   ]
  },
  {
   "cell_type": "code",
   "execution_count": 27,
   "id": "02a9b636",
   "metadata": {},
   "outputs": [
    {
     "data": {
      "text/plain": [
       "True"
      ]
     },
     "execution_count": 27,
     "metadata": {},
     "output_type": "execute_result"
    }
   ],
   "source": [
    "#Manuel esta en el aula?\n",
    "alumno2 in aula"
   ]
  },
  {
   "cell_type": "code",
   "execution_count": 28,
   "id": "77eccdb8",
   "metadata": {},
   "outputs": [
    {
     "data": {
      "text/plain": [
       "True"
      ]
     },
     "execution_count": 28,
     "metadata": {},
     "output_type": "execute_result"
    }
   ],
   "source": [
    "#Luis no esta en el aula?\n",
    "alumno1 not in aula"
   ]
  },
  {
   "cell_type": "code",
   "execution_count": 29,
   "id": "3078b4c3",
   "metadata": {},
   "outputs": [],
   "source": [
    "#operadores de identidad\n",
    "#se tiene, is, is not"
   ]
  },
  {
   "cell_type": "code",
   "execution_count": 30,
   "id": "e3235b60",
   "metadata": {},
   "outputs": [],
   "source": [
    "aula1 = [\"Edwin\", \"Manuel\", \"Paucar\"]\n",
    "aula2 = [\"Edwin\", \"Manuel\", \"Paucar\"]\n",
    "#a continuacion vamos a indicar que aula3 va a compartir el mismo objeto que el aula 1\n",
    "aula3 = aula1"
   ]
  },
  {
   "cell_type": "code",
   "execution_count": 31,
   "id": "100d7e2f",
   "metadata": {},
   "outputs": [
    {
     "data": {
      "text/plain": [
       "True"
      ]
     },
     "execution_count": 31,
     "metadata": {},
     "output_type": "execute_result"
    }
   ],
   "source": [
    "#aula3 comparte el mismo objeto que aula1?\n",
    "aula3 is aula1"
   ]
  },
  {
   "cell_type": "code",
   "execution_count": 33,
   "id": "0161438b",
   "metadata": {},
   "outputs": [
    {
     "data": {
      "text/plain": [
       "False"
      ]
     },
     "execution_count": 33,
     "metadata": {},
     "output_type": "execute_result"
    }
   ],
   "source": [
    "##aula3 comparte el mismo objeto que aula2?\n",
    "aula3 is aula2"
   ]
  },
  {
   "cell_type": "code",
   "execution_count": 36,
   "id": "3fe042fb",
   "metadata": {},
   "outputs": [
    {
     "data": {
      "text/plain": [
       "False"
      ]
     },
     "execution_count": 36,
     "metadata": {},
     "output_type": "execute_result"
    }
   ],
   "source": [
    "aula2 comparte el mismo objeto con aula1?\n",
    "aula2 is aula1"
   ]
  },
  {
   "cell_type": "code",
   "execution_count": 37,
   "id": "79bf81d1",
   "metadata": {},
   "outputs": [],
   "source": [
    "aula1.append(\"Diego\")"
   ]
  },
  {
   "cell_type": "code",
   "execution_count": 38,
   "id": "cb58aa0c",
   "metadata": {},
   "outputs": [
    {
     "name": "stdout",
     "output_type": "stream",
     "text": [
      "['Edwin', 'Manuel', 'Paucar', 'Diego']\n"
     ]
    }
   ],
   "source": [
    "#al imprimir los elementos de l alista aula1 se observa\n",
    "print(aula1)"
   ]
  },
  {
   "cell_type": "code",
   "execution_count": 39,
   "id": "b3d605d9",
   "metadata": {},
   "outputs": [
    {
     "name": "stdout",
     "output_type": "stream",
     "text": [
      "['Edwin', 'Manuel', 'Paucar', 'Diego']\n"
     ]
    }
   ],
   "source": [
    "#al imprimir los elementos de la lista aula3 e observa\n",
    "print(aula3)"
   ]
  },
  {
   "cell_type": "code",
   "execution_count": 40,
   "id": "5b334840",
   "metadata": {},
   "outputs": [
    {
     "name": "stdout",
     "output_type": "stream",
     "text": [
      "['Edwin', 'Manuel', 'Paucar']\n"
     ]
    }
   ],
   "source": [
    "#al imprimir los elementos de la lista aula2 se observa\n",
    "print(aula2)"
   ]
  },
  {
   "cell_type": "code",
   "execution_count": null,
   "id": "a8dadd6a",
   "metadata": {},
   "outputs": [],
   "source": []
  }
 ],
 "metadata": {
  "kernelspec": {
   "display_name": "Python 3 (ipykernel)",
   "language": "python",
   "name": "python3"
  },
  "language_info": {
   "codemirror_mode": {
    "name": "ipython",
    "version": 3
   },
   "file_extension": ".py",
   "mimetype": "text/x-python",
   "name": "python",
   "nbconvert_exporter": "python",
   "pygments_lexer": "ipython3",
   "version": "3.9.12"
  }
 },
 "nbformat": 4,
 "nbformat_minor": 5
}
